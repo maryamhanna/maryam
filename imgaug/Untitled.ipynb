{
 "cells": [
  {
   "cell_type": "code",
   "execution_count": 1,
   "metadata": {},
   "outputs": [],
   "source": [
    "import cv2\n",
    "import tensorflow as tf\n",
    "#from skimage.exposure import rescale_intensity \n",
    "#from skimage.segmentation import slic\n",
    "#from skimage.util import img_as_float\n",
    "#from skimage import io \n",
    "import numpy as np \n",
    "import matplotlib.pyplot as plt\n",
    "import matplotlib.image as mpimg\n",
    "from skimage import io\n",
    "from PIL import Image\n",
    "import os\n",
    "import pandas\n",
    "import skimage"
   ]
  },
  {
   "cell_type": "code",
   "execution_count": 4,
   "metadata": {},
   "outputs": [
    {
     "name": "stdout",
     "output_type": "stream",
     "text": [
      "240\n"
     ]
    }
   ],
   "source": [
    "#(x1, y1)(left, top)\n",
    "#(x2, y2)(right, bottom)\n",
    "#(top, right, bottom, left)\n",
    "#(32, 42, 0, 0)\n",
    "mypath = \"/home/ket/maryam/imgaug/cars/\"\n",
    "#debugging\n",
    "dirs = os.listdir(mypath)\n",
    "num_images = len(dirs)\n",
    "print (num_images)\n",
    "images_original = []\n",
    "images_flip = []\n",
    "images_rot = []\n",
    "images_rot_flip = []\n",
    "for filename in os.listdir(mypath):\n",
    "    img = cv2.imread(os.path.join(mypath, filename))\n",
    "    img = cv2.cvtColor(img, cv2.COLOR_BGR2RGB)\n",
    "   # print(img)\n",
    "    if img is not None:\n",
    "        flip = np.fliplr(img)\n",
    "        rot = skimage.transform.rotate(img, angle=15, mode='reflect')\n",
    "        \n",
    "        rot_flip = np.fliplr(rot)\n",
    "       \n",
    "        images_flip.append(flip)\n",
    "        images_original.append(img)\n",
    "        images_rot.append(rot)\n",
    "        images_rot_flip.append(rot_flip)\n",
    "        \n",
    "        file_name_flip = os.path.join(\"/home/ket/maryam/imgaug/flipped_cars/\", 'flipped_'+filename)\n",
    "        mpimg.imsave(file_name_flip, flip)\n",
    "        \n",
    "        file_name_rot = os.path.join(\"/home/ket/maryam/imgaug/rotated_cars/\", 'rotated_'+filename)\n",
    "        mpimg.imsave(file_name_rot, rot)\n",
    "        \n",
    "        file_name_rot_flip = os.path.join(\"/home/ket/maryam/imgaug/rotated_and_flipped_cars/\", 'rotated_and_flipped_'+filename)\n",
    "        mpimg.imsave(file_name_rot_flip, rot_flip)\n",
    "        \n",
    "        \n",
    "        \n",
    "#for file in dirs:\n",
    "    #print(file)\n",
    "#onlyfiles = [f for f in listdir(mypath) if isfile(join(mypath, f))]\n",
    "##images = np.empty (len(onlyfiles))\n",
    "#for n in range (num_images):\n",
    "#    image = cv2.imread('*.JPG')\n",
    "#    print(image)\n",
    "#Folder_name = \"augmented_image\"\n",
    "#Extension = \".JPG\"\n",
    "\n",
    "# RESIZE\n",
    "# def resize_image(image, w, h):\n",
    "#     image=cv2.resize(image(w, h))\n",
    "#     cv2.imwrite(Folder_name+\"/Resize-\"+str(w)\"+\"str(h)+Extension, image)\n"
   ]
  },
  {
   "cell_type": "code",
   "execution_count": null,
   "metadata": {},
   "outputs": [],
   "source": [
    "n = len(images_original)\n",
    "print(n)\n",
    "plt.imshow(images_original[45])"
   ]
  },
  {
   "cell_type": "code",
   "execution_count": null,
   "metadata": {},
   "outputs": [],
   "source": [
    "image = images_original[45]\n",
    "flip_1 = np.fliplr(image)\n",
    "plt.imshow (flip_1)\n",
    "plt.show()\n",
    "mpimg.imsave(\"test-save.png\", flip_1)\n",
    "cv2.imwrite(\"test-save2.jpg\", flip_1)\n",
    "\n"
   ]
  },
  {
   "cell_type": "code",
   "execution_count": null,
   "metadata": {},
   "outputs": [],
   "source": [
    "image = images_original[45]\n",
    "\n",
    "rot = skimage.transform.rotate(image, angle=15, mode='reflect')\n",
    "plt.imshow(rot)\n",
    "mpimg.imsave(\"test-save.jpg\", rot)\n",
    "cv2.imwrite(\"test-save2.jpg\", rot)"
   ]
  },
  {
   "cell_type": "code",
   "execution_count": null,
   "metadata": {},
   "outputs": [],
   "source": [
    "image = images_original[45]\n",
    "\n",
    "imshape = image.shape\n",
    "batch = 1\n",
    "height = imshape[0]\n",
    "width = imshape[1]\n",
    "channels = 3\n",
    "\n",
    "pad_top = 10\n",
    "pad_left = 10\n",
    "pad_bottom = 10\n",
    "pad_right = 20\n",
    "\n",
    "shape = [batch, height, width, channels]\n",
    "x = tf.placeholder(dtype = tf.float32, shape = shape)\n",
    "\n",
    "        # We use two functions to get our desired augmentation\n",
    "x = tf.image.pad_to_bounding_box(x, pad_top, pad_left, height + pad_bottom + pad_top, width + pad_right + pad_left)\n",
    "output = tf.image.crop_to_bounding_box(x, pad_bottom, pad_right, height, width)\n",
    "output = tf.cast(output, tf.uint16)\n",
    "output = tf.squeeze(output, axis=[0])\n",
    "\n",
    "output_image = tf.image.encode_png(output)\n",
    "output_image = tf.cast(output_image, tf.float32)\n",
    "\n",
    "print(outpute)\n",
    "\n",
    "cv2.imwrite('imagejpg',output_image)"
   ]
  },
  {
   "cell_type": "code",
   "execution_count": null,
   "metadata": {},
   "outputs": [],
   "source": []
  },
  {
   "cell_type": "code",
   "execution_count": null,
   "metadata": {},
   "outputs": [],
   "source": []
  }
 ],
 "metadata": {
  "kernelspec": {
   "display_name": "Python 3",
   "language": "python",
   "name": "python3"
  },
  "language_info": {
   "codemirror_mode": {
    "name": "ipython",
    "version": 3
   },
   "file_extension": ".py",
   "mimetype": "text/x-python",
   "name": "python",
   "nbconvert_exporter": "python",
   "pygments_lexer": "ipython3",
   "version": "3.6.6"
  }
 },
 "nbformat": 4,
 "nbformat_minor": 2
}
