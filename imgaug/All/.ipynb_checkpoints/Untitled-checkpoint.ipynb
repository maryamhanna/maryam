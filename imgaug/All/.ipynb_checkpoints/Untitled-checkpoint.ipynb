{
 "cells": [
  {
   "cell_type": "code",
   "execution_count": 37,
   "metadata": {
    "scrolled": true
   },
   "outputs": [
    {
     "name": "stdout",
     "output_type": "stream",
     "text": [
      "3843\n",
      "rotated30_and_flipped_cal_car1_15_30L.JPG\n"
     ]
    },
    {
     "ename": "NameError",
     "evalue": "name 'endswith' is not defined",
     "output_type": "error",
     "traceback": [
      "\u001b[0;31m---------------------------------------------------------------------------\u001b[0m",
      "\u001b[0;31mNameError\u001b[0m                                 Traceback (most recent call last)",
      "\u001b[0;32m<ipython-input-37-13c4060a5cb4>\u001b[0m in \u001b[0;36m<module>\u001b[0;34m\u001b[0m\n\u001b[1;32m     14\u001b[0m \u001b[0;32mfor\u001b[0m \u001b[0mfilename\u001b[0m \u001b[0;32min\u001b[0m \u001b[0mos\u001b[0m\u001b[0;34m.\u001b[0m\u001b[0mlistdir\u001b[0m\u001b[0;34m(\u001b[0m\u001b[0mmypath\u001b[0m\u001b[0;34m)\u001b[0m\u001b[0;34m:\u001b[0m\u001b[0;34m\u001b[0m\u001b[0;34m\u001b[0m\u001b[0m\n\u001b[1;32m     15\u001b[0m     \u001b[0mprint\u001b[0m\u001b[0;34m(\u001b[0m\u001b[0mfilename\u001b[0m\u001b[0;34m)\u001b[0m\u001b[0;34m\u001b[0m\u001b[0;34m\u001b[0m\u001b[0m\n\u001b[0;32m---> 16\u001b[0;31m     \u001b[0;32mif\u001b[0m \u001b[0mfilename\u001b[0m \u001b[0;32mis\u001b[0m \u001b[0;34m(\u001b[0m\u001b[0;32mnot\u001b[0m \u001b[0;32mNone\u001b[0m \u001b[0;32mand\u001b[0m \u001b[0mendswith\u001b[0m\u001b[0;34m(\u001b[0m\u001b[0;34m'.JPG'\u001b[0m\u001b[0;34m)\u001b[0m\u001b[0;34m)\u001b[0m\u001b[0;34m:\u001b[0m\u001b[0;34m\u001b[0m\u001b[0;34m\u001b[0m\u001b[0m\n\u001b[0m\u001b[1;32m     17\u001b[0m         \u001b[0mfile_name\u001b[0m \u001b[0;34m=\u001b[0m \u001b[0mmypath\u001b[0m \u001b[0;34m+\u001b[0m \u001b[0mfilename\u001b[0m\u001b[0;34m\u001b[0m\u001b[0;34m\u001b[0m\u001b[0m\n\u001b[1;32m     18\u001b[0m         \u001b[0mnames\u001b[0m\u001b[0;34m.\u001b[0m\u001b[0mappend\u001b[0m\u001b[0;34m(\u001b[0m\u001b[0mfile_name\u001b[0m\u001b[0;34m)\u001b[0m\u001b[0;34m\u001b[0m\u001b[0;34m\u001b[0m\u001b[0m\n",
      "\u001b[0;31mNameError\u001b[0m: name 'endswith' is not defined"
     ]
    }
   ],
   "source": [
    "import csv\n",
    "import os\n",
    "import numpy as np\n",
    "import fnmatch\n",
    "mypath = \"/home/ket/maryam/imgaug/All/\"\n",
    "dirs = os.listdir(mypath)\n",
    "num_images = len(dirs)\n",
    "names = []\n",
    "cars = []\n",
    "distance = []\n",
    "rl_view = []\n",
    "angle = []\n",
    "dataug = []\n",
    "print (num_images)\n",
    "for filename in os.listdir(mypath):\n",
    "    print(filename)\n",
    "    if filename is (not None and endswith('.JPG')):\n",
    "        file_name = mypath + filename \n",
    "        names.append(file_name)\n",
    "        filename = filename.split('_')\n",
    "        \n",
    "        if 'car1' in filename:\n",
    "            cars.append('car1')\n",
    "        elif 'car2' in filename:\n",
    "            cars.append('car2')\n",
    "        elif 'car3' in filename:\n",
    "            cars.append('car3')\n",
    "        elif 'car4' in filename:\n",
    "            cars.append('car4')\n",
    "        elif 'car5' in filename:\n",
    "            cars.append('car5')\n",
    "        elif 'car6' in filename:\n",
    "            cars.append('car6')\n",
    "    \n",
    "        if '2' in filename: \n",
    "            distance.append('2')\n",
    "        elif '4' in filename: \n",
    "            distance.append('4')\n",
    "        elif '6' in filename: \n",
    "            distance.append('6')\n",
    "        elif '8' in filename: \n",
    "            distance.append('8')\n",
    "        elif '10' in filename: \n",
    "            distance.append('10')\n",
    "        elif '15' in filename: \n",
    "            distance.append('15')\n",
    "        elif '20' in filename: \n",
    "            distance.append('20')\n",
    "        elif '25' in filename: \n",
    "            distance.append('25')\n",
    "        elif '30' in filename: \n",
    "            distance.append('30')\n",
    "            \n",
    "        if '0' in filename:\n",
    "            rl_view.append('none')\n",
    "            angle.append('0')\n",
    "        elif (('30L' or '45L') and ('flipped')) or ('30R' or '30RS' or '45R') in filename:\n",
    "            rl_view.append('left')\n",
    "        elif (('30R' or '45R') and ('flipped')) or ('30L' or '45L') in filename:\n",
    "            rl_view.append('right')  \n",
    "        \n",
    "        if '30L' or '30R' or '30RS' in filename:\n",
    "            angle.append('30')\n",
    "        elif '45L' or '45R' in filename:\n",
    "            angle.append('45')\n",
    "            \n",
    "        if 'flipped' and 'salt' and 'rotated45' in filename:\n",
    "            dataug.append('sp_rot45_flip')\n",
    "        elif 'flipped' and 'salt' and 'rotated30' in filename:\n",
    "            dataug.append('sp_rot30_flip')\n",
    "        elif 'flipped' and 'salt' and 'rotated15' in filename:\n",
    "            dataug.append('sp_rot15_flip')\n",
    "        elif 'salt' and 'rotated45' in filename:\n",
    "            dataug.append('sp_rot45')\n",
    "        elif 'salt' and 'rotated30' in filename:\n",
    "            dataug.append('sp_rot30')\n",
    "        elif 'salt' and 'rotated15' in filename:\n",
    "            dataug.append('sp_rot15')\n",
    "        elif 'flipped' and 'rotated45' in filename:\n",
    "            dataug.append('rot45_flip')\n",
    "        elif 'flipped' and 'rotated30' in filename:\n",
    "            dataug.append('rot30_flip')\n",
    "        elif 'flipped' and 'rotated15' in filename:\n",
    "            dataug.append('rot15_flip')\n",
    "        elif 'rotated45' in filename:\n",
    "            dataug.append('rot45')\n",
    "        elif 'rotated30' in filename:\n",
    "            dataug.append('rot30')\n",
    "        elif 'rotated15' in filename:\n",
    "            dataug.append('rot15')\n",
    "        elif 'flipped' in filename:\n",
    "            dataug.append('flip')\n",
    "        else:\n",
    "            dataug.append('none')           \n",
    "print('Done setting columns')\n",
    "\n",
    "data_input = []\n",
    "\n",
    "num = len(names)\n",
    "print(num)\n",
    "num = len(cars)\n",
    "print(num)\n",
    "num = len(distance)\n",
    "print(num)\n",
    "num = len(rl_view)\n",
    "print(num)\n",
    "num = len(angle)\n",
    "print(num)\n",
    "num = len(dataug)\n",
    "print(num)\n",
    "'''\n",
    "for i in range(num):\n",
    "    print(i)\n",
    "    row = []\n",
    "    row.append(names[i])\n",
    "    row.append(cars[i])\n",
    "    row.append(distance[i])\n",
    "    row.append(rl_view[i])\n",
    "    row.append(angle[i])\n",
    "    row.append(dataug[i])\n",
    "    data_input.append(row)\n",
    "print(data_input)\n",
    "\n",
    "print ('Done setting matrix')\n",
    "f = open('plates.csv', 'w')\n",
    "with f:\n",
    "    writer = csv.writer(f)\n",
    "    writer.writerow([\"Path\", \"Car\", \"Distance\", \"RL_View\", \"Angle\", \"Data-Aug\"])\n",
    "    for row in data_input:\n",
    "        writer.writerow(data_input)\n",
    "'''\n",
    "        \n",
    "        \n",
    "    "
   ]
  },
  {
   "cell_type": "code",
   "execution_count": 28,
   "metadata": {},
   "outputs": [
    {
     "name": "stdout",
     "output_type": "stream",
     "text": [
      "['hi', 'bye', 'afternoon']\n",
      "['good', 'bad', 'work']\n",
      "[['hi', 'good'], ['bye', 'bad'], ['afternoon', 'work']]\n"
     ]
    }
   ],
   "source": [
    "list1 = ['hi', 'bye', 'afternoon']\n",
    "print(list1)\n",
    "list2 = ['good', 'bad', 'work']\n",
    "print(list2)\n",
    "num = len(list1)\n",
    "data = []\n",
    "for i in range(num):\n",
    "    row = []\n",
    "    row.append(list1[i])\n",
    "    row.append(list2[i])\n",
    "    data.append(row)\n",
    "print(data)"
   ]
  },
  {
   "cell_type": "code",
   "execution_count": 4,
   "metadata": {},
   "outputs": [],
   "source": [
    "import csv\n",
    "nums = [['hello','hi'],['good','bye','please']]\n",
    "f = open('plates.csv', 'w')\n",
    "with f:\n",
    "    writer = csv.writer(f)\n",
    "    for row in nums:\n",
    "        writer.writerow(row)"
   ]
  },
  {
   "cell_type": "code",
   "execution_count": 5,
   "metadata": {
    "scrolled": true
   },
   "outputs": [
    {
     "ename": "TypeError",
     "evalue": "a bytes-like object is required, not 'str'",
     "output_type": "error",
     "traceback": [
      "\u001b[0;31m---------------------------------------------------------------------------\u001b[0m",
      "\u001b[0;31mTypeError\u001b[0m                                 Traceback (most recent call last)",
      "\u001b[0;32m<ipython-input-5-6932934e530c>\u001b[0m in \u001b[0;36m<module>\u001b[0;34m\u001b[0m\n\u001b[1;32m      1\u001b[0m \u001b[0;32mfrom\u001b[0m \u001b[0mio\u001b[0m \u001b[0;32mimport\u001b[0m \u001b[0mBytesIO\u001b[0m\u001b[0;34m\u001b[0m\u001b[0;34m\u001b[0m\u001b[0m\n\u001b[1;32m      2\u001b[0m \u001b[0mname\u001b[0m \u001b[0;34m=\u001b[0m \u001b[0;34m'Name'\u001b[0m\u001b[0;34m\u001b[0m\u001b[0;34m\u001b[0m\u001b[0m\n\u001b[0;32m----> 3\u001b[0;31m \u001b[0mfilewriter\u001b[0m\u001b[0;34m.\u001b[0m\u001b[0mwriterow\u001b[0m\u001b[0;34m(\u001b[0m\u001b[0;34m[\u001b[0m\u001b[0mname\u001b[0m\u001b[0;34m.\u001b[0m\u001b[0mencode\u001b[0m\u001b[0;34m(\u001b[0m\u001b[0;34m'utf-8'\u001b[0m\u001b[0;34m)\u001b[0m\u001b[0;34m]\u001b[0m\u001b[0;34m)\u001b[0m\u001b[0;34m\u001b[0m\u001b[0;34m\u001b[0m\u001b[0m\n\u001b[0m",
      "\u001b[0;31mTypeError\u001b[0m: a bytes-like object is required, not 'str'"
     ]
    }
   ],
   "source": [
    "from io import BytesIO\n",
    "name = 'Name'\n",
    "filewriter.writerow([name.encode('utf-8')])\n"
   ]
  },
  {
   "cell_type": "code",
   "execution_count": null,
   "metadata": {},
   "outputs": [],
   "source": [
    "import os\n",
    "mypath = \"/home/ket/maryam/imgaug/All/\"\n",
    "dirs = os.listdir(mypath)\n",
    "num_images = len(dirs)\n",
    "print (num_images)"
   ]
  },
  {
   "cell_type": "code",
   "execution_count": null,
   "metadata": {},
   "outputs": [],
   "source": []
  }
 ],
 "metadata": {
  "kernelspec": {
   "display_name": "Python 3",
   "language": "python",
   "name": "python3"
  },
  "language_info": {
   "codemirror_mode": {
    "name": "ipython",
    "version": 3
   },
   "file_extension": ".py",
   "mimetype": "text/x-python",
   "name": "python",
   "nbconvert_exporter": "python",
   "pygments_lexer": "ipython3",
   "version": "3.7.2"
  }
 },
 "nbformat": 4,
 "nbformat_minor": 2
}
