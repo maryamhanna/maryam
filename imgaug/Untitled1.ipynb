{
 "cells": [
  {
   "cell_type": "code",
   "execution_count": null,
   "metadata": {},
   "outputs": [],
   "source": [
    "import cv2 \n",
    "import os\n",
    "\n",
    "mypath = \"/home/ket/maryam/images/Plates\"\n",
    "dirs = os.listdir(mypath)\n",
    "i = 1\n",
    "for filename in os.listdir(mypath):\n",
    "    #print(filename)\n",
    "    if filename is not None:\n",
    "        if filename.startswith('DELETE'):\n",
    "            img = cv2.imread(os.path.join(mypath, filename))\n",
    "            x = 138\n",
    "            y = 69\n",
    "            m = 0\n",
    "            while (m+x) < 1280:\n",
    "                n = 0\n",
    "                while (n+y) < 720:\n",
    "                    new_img = img [n:y+n, m:x+m]\n",
    "                    num = str(i)\n",
    "                    file_name = os.path.join(\"/home/ket/maryam/images/no_plates\", 'no'+ num +'.JPG')\n",
    "                    cv2.imwrite(file_name, new_img)\n",
    "                    i = i + 1\n",
    "                    n = n + 69\n",
    "                \n",
    "                    "
   ]
  },
  {
   "cell_type": "code",
   "execution_count": null,
   "metadata": {},
   "outputs": [],
   "source": []
  }
 ],
 "metadata": {
  "kernelspec": {
   "display_name": "Python 3",
   "language": "python",
   "name": "python3"
  },
  "language_info": {
   "codemirror_mode": {
    "name": "ipython",
    "version": 3
   },
   "file_extension": ".py",
   "mimetype": "text/x-python",
   "name": "python",
   "nbconvert_exporter": "python",
   "pygments_lexer": "ipython3",
   "version": "3.6.6"
  }
 },
 "nbformat": 4,
 "nbformat_minor": 2
}
