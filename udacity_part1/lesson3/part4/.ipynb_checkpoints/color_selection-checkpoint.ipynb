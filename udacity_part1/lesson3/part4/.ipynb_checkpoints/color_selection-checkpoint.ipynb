{
 "cells": [
  {
   "cell_type": "code",
   "execution_count": null,
   "metadata": {},
   "outputs": [],
   "source": [
    "# orginally taken from udacity nanodegree for self-driving cars: part1:\n",
    "# lesson3: part 4\n",
    "# with my own personal modifications \n",
    "# import necessary libraries: matplotlib and numpy\n",
    "import matplotlib.pyplot as plt\n",
    "import matplotlib.image as mpimg\n",
    "import numpy as np"
   ]
  },
  {
   "cell_type": "code",
   "execution_count": null,
   "metadata": {},
   "outputs": [],
   "source": [
    "# read in the image and print out some stats\n",
    "image = mpimg.imread('test.jpg')\n",
    "print('This image is: ', type(image), 'with dimensions: ', image.shape)"
   ]
  },
  {
   "cell_type": "code",
   "execution_count": null,
   "metadata": {},
   "outputs": [],
   "source": [
    "# grab the x and y size and make copy of image\n",
    "ysize = image.shape[0]\n",
    "xsize = image.shape[1]\n",
    "color_select = np.copy(image)"
   ]
  },
  {
   "cell_type": "code",
   "execution_count": null,
   "metadata": {},
   "outputs": [],
   "source": [
    "# define our color selection criteria\n",
    "# rgb_threshold = [red_threshold, green_threshold, blue_threshold]\n",
    "rgb_thres = [255, 255, 255]"
   ]
  },
  {
   "cell_type": "code",
   "execution_count": null,
   "metadata": {},
   "outputs": [],
   "source": [
    "# identiy pixels below threshold\n",
    "threshold = (image[:,:,0] < rgb_thres[0]) \\\n",
    "            | (image[:,:,1] < rgb_thres[1]) \\\n",
    "            | (image[:,:,2] < rgb_thres[2]) \\\n",
    "color_select[threshold] = [0,0,0]"
   ]
  },
  {
   "cell_type": "code",
   "execution_count": null,
   "metadata": {},
   "outputs": [],
   "source": [
    "# display the image and save it\n",
    "plt.imshow(color_select)\n",
    "plt.show()\n",
    "mpimg.imsave(\"test-after.png\", color_select)"
   ]
  }
 ],
 "metadata": {
  "kernelspec": {
   "display_name": "Python 3",
   "language": "python",
   "name": "python3"
  },
  "language_info": {
   "codemirror_mode": {
    "name": "ipython",
    "version": 3
   },
   "file_extension": ".py",
   "mimetype": "text/x-python",
   "name": "python",
   "nbconvert_exporter": "python",
   "pygments_lexer": "ipython3",
   "version": "3.7.0"
  }
 },
 "nbformat": 4,
 "nbformat_minor": 2
}
